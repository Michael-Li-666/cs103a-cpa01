{
 "cells": [
  {
   "cell_type": "markdown",
   "id": "8eb22da3",
   "metadata": {},
   "source": [
    "This dataset contains all the TV-shows & movies information from Netflix.\n",
    "\n",
    "The URL link is https://www.kaggle.com/shivamb/netflix-shows/download; to download it, simply go to the site and click download.\n",
    "\n",
    "What is the ratio of TV-shows & movies that netflix released?\n",
    "\n",
    "What is the distribution of the TV-shows & movies release time?\n",
    "\n",
    "What is the distribution of the country where TV-shows & movies are produced?"
   ]
  },
  {
   "cell_type": "markdown",
   "id": "714f0940",
   "metadata": {},
   "source": [
    "Load the data"
   ]
  },
  {
   "cell_type": "code",
   "execution_count": 1,
   "id": "17043fe4-7dcb-4e34-adce-f1579b902d04",
   "metadata": {},
   "outputs": [
    {
     "name": "stdout",
     "output_type": "stream",
     "text": [
      "       release_year\n",
      "count   8807.000000\n",
      "mean    2014.180198\n",
      "std        8.819312\n",
      "min     1925.000000\n",
      "25%     2013.000000\n",
      "50%     2017.000000\n",
      "75%     2019.000000\n",
      "max     2021.000000\n"
     ]
    },
    {
     "data": {
      "text/html": [
       "<div>\n",
       "<style scoped>\n",
       "    .dataframe tbody tr th:only-of-type {\n",
       "        vertical-align: middle;\n",
       "    }\n",
       "\n",
       "    .dataframe tbody tr th {\n",
       "        vertical-align: top;\n",
       "    }\n",
       "\n",
       "    .dataframe thead th {\n",
       "        text-align: right;\n",
       "    }\n",
       "</style>\n",
       "<table border=\"1\" class=\"dataframe\">\n",
       "  <thead>\n",
       "    <tr style=\"text-align: right;\">\n",
       "      <th></th>\n",
       "      <th>show_id</th>\n",
       "      <th>type</th>\n",
       "      <th>title</th>\n",
       "      <th>director</th>\n",
       "      <th>cast</th>\n",
       "      <th>country</th>\n",
       "      <th>date_added</th>\n",
       "      <th>release_year</th>\n",
       "      <th>rating</th>\n",
       "      <th>duration</th>\n",
       "      <th>listed_in</th>\n",
       "      <th>description</th>\n",
       "    </tr>\n",
       "  </thead>\n",
       "  <tbody>\n",
       "    <tr>\n",
       "      <th>0</th>\n",
       "      <td>s1</td>\n",
       "      <td>Movie</td>\n",
       "      <td>Dick Johnson Is Dead</td>\n",
       "      <td>Kirsten Johnson</td>\n",
       "      <td>NaN</td>\n",
       "      <td>United States</td>\n",
       "      <td>September 25, 2021</td>\n",
       "      <td>2020</td>\n",
       "      <td>PG-13</td>\n",
       "      <td>90 min</td>\n",
       "      <td>Documentaries</td>\n",
       "      <td>As her father nears the end of his life, filmm...</td>\n",
       "    </tr>\n",
       "    <tr>\n",
       "      <th>1</th>\n",
       "      <td>s2</td>\n",
       "      <td>TV Show</td>\n",
       "      <td>Blood &amp; Water</td>\n",
       "      <td>NaN</td>\n",
       "      <td>Ama Qamata, Khosi Ngema, Gail Mabalane, Thaban...</td>\n",
       "      <td>South Africa</td>\n",
       "      <td>September 24, 2021</td>\n",
       "      <td>2021</td>\n",
       "      <td>TV-MA</td>\n",
       "      <td>2 Seasons</td>\n",
       "      <td>International TV Shows, TV Dramas, TV Mysteries</td>\n",
       "      <td>After crossing paths at a party, a Cape Town t...</td>\n",
       "    </tr>\n",
       "    <tr>\n",
       "      <th>2</th>\n",
       "      <td>s3</td>\n",
       "      <td>TV Show</td>\n",
       "      <td>Ganglands</td>\n",
       "      <td>Julien Leclercq</td>\n",
       "      <td>Sami Bouajila, Tracy Gotoas, Samuel Jouy, Nabi...</td>\n",
       "      <td>NaN</td>\n",
       "      <td>September 24, 2021</td>\n",
       "      <td>2021</td>\n",
       "      <td>TV-MA</td>\n",
       "      <td>1 Season</td>\n",
       "      <td>Crime TV Shows, International TV Shows, TV Act...</td>\n",
       "      <td>To protect his family from a powerful drug lor...</td>\n",
       "    </tr>\n",
       "    <tr>\n",
       "      <th>3</th>\n",
       "      <td>s4</td>\n",
       "      <td>TV Show</td>\n",
       "      <td>Jailbirds New Orleans</td>\n",
       "      <td>NaN</td>\n",
       "      <td>NaN</td>\n",
       "      <td>NaN</td>\n",
       "      <td>September 24, 2021</td>\n",
       "      <td>2021</td>\n",
       "      <td>TV-MA</td>\n",
       "      <td>1 Season</td>\n",
       "      <td>Docuseries, Reality TV</td>\n",
       "      <td>Feuds, flirtations and toilet talk go down amo...</td>\n",
       "    </tr>\n",
       "    <tr>\n",
       "      <th>4</th>\n",
       "      <td>s5</td>\n",
       "      <td>TV Show</td>\n",
       "      <td>Kota Factory</td>\n",
       "      <td>NaN</td>\n",
       "      <td>Mayur More, Jitendra Kumar, Ranjan Raj, Alam K...</td>\n",
       "      <td>India</td>\n",
       "      <td>September 24, 2021</td>\n",
       "      <td>2021</td>\n",
       "      <td>TV-MA</td>\n",
       "      <td>2 Seasons</td>\n",
       "      <td>International TV Shows, Romantic TV Shows, TV ...</td>\n",
       "      <td>In a city of coaching centers known to train I...</td>\n",
       "    </tr>\n",
       "  </tbody>\n",
       "</table>\n",
       "</div>"
      ],
      "text/plain": [
       "  show_id     type                  title         director  \\\n",
       "0      s1    Movie   Dick Johnson Is Dead  Kirsten Johnson   \n",
       "1      s2  TV Show          Blood & Water              NaN   \n",
       "2      s3  TV Show              Ganglands  Julien Leclercq   \n",
       "3      s4  TV Show  Jailbirds New Orleans              NaN   \n",
       "4      s5  TV Show           Kota Factory              NaN   \n",
       "\n",
       "                                                cast        country  \\\n",
       "0                                                NaN  United States   \n",
       "1  Ama Qamata, Khosi Ngema, Gail Mabalane, Thaban...   South Africa   \n",
       "2  Sami Bouajila, Tracy Gotoas, Samuel Jouy, Nabi...            NaN   \n",
       "3                                                NaN            NaN   \n",
       "4  Mayur More, Jitendra Kumar, Ranjan Raj, Alam K...          India   \n",
       "\n",
       "           date_added  release_year rating   duration  \\\n",
       "0  September 25, 2021          2020  PG-13     90 min   \n",
       "1  September 24, 2021          2021  TV-MA  2 Seasons   \n",
       "2  September 24, 2021          2021  TV-MA   1 Season   \n",
       "3  September 24, 2021          2021  TV-MA   1 Season   \n",
       "4  September 24, 2021          2021  TV-MA  2 Seasons   \n",
       "\n",
       "                                           listed_in  \\\n",
       "0                                      Documentaries   \n",
       "1    International TV Shows, TV Dramas, TV Mysteries   \n",
       "2  Crime TV Shows, International TV Shows, TV Act...   \n",
       "3                             Docuseries, Reality TV   \n",
       "4  International TV Shows, Romantic TV Shows, TV ...   \n",
       "\n",
       "                                         description  \n",
       "0  As her father nears the end of his life, filmm...  \n",
       "1  After crossing paths at a party, a Cape Town t...  \n",
       "2  To protect his family from a powerful drug lor...  \n",
       "3  Feuds, flirtations and toilet talk go down amo...  \n",
       "4  In a city of coaching centers known to train I...  "
      ]
     },
     "execution_count": 1,
     "metadata": {},
     "output_type": "execute_result"
    }
   ],
   "source": [
    "import numpy as np\n",
    "import pandas as pd\n",
    "import seaborn as sns\n",
    "import matplotlib.pyplot as plt\n",
    "\n",
    "df = pd.read_csv('/Users/michael/Documents/Github Desktop/CPA01/netflix_titles.csv')\n",
    "dc = df.describe()\n",
    "\n",
    "print(dc)\n",
    "df.head(5)"
   ]
  },
  {
   "cell_type": "code",
   "execution_count": 2,
   "id": "487cec87-b48a-49f0-aebc-bfc1c5e4fba1",
   "metadata": {},
   "outputs": [
    {
     "data": {
      "text/html": [
       "<div>\n",
       "<style scoped>\n",
       "    .dataframe tbody tr th:only-of-type {\n",
       "        vertical-align: middle;\n",
       "    }\n",
       "\n",
       "    .dataframe tbody tr th {\n",
       "        vertical-align: top;\n",
       "    }\n",
       "\n",
       "    .dataframe thead th {\n",
       "        text-align: right;\n",
       "    }\n",
       "</style>\n",
       "<table border=\"1\" class=\"dataframe\">\n",
       "  <thead>\n",
       "    <tr style=\"text-align: right;\">\n",
       "      <th>country</th>\n",
       "      <th>, France, Algeria</th>\n",
       "      <th>, South Korea</th>\n",
       "      <th>Argentina</th>\n",
       "      <th>Argentina, Brazil, France, Poland, Germany, Denmark</th>\n",
       "      <th>Argentina, Chile</th>\n",
       "      <th>Argentina, Chile, Peru</th>\n",
       "      <th>Argentina, France</th>\n",
       "      <th>Argentina, France, United States, Germany, Qatar</th>\n",
       "      <th>Argentina, Italy</th>\n",
       "      <th>Argentina, Spain</th>\n",
       "      <th>...</th>\n",
       "      <th>Uruguay, Argentina, Germany, Spain</th>\n",
       "      <th>Uruguay, Argentina, Spain</th>\n",
       "      <th>Uruguay, Germany</th>\n",
       "      <th>Uruguay, Guatemala</th>\n",
       "      <th>Uruguay, Spain, Mexico</th>\n",
       "      <th>Venezuela</th>\n",
       "      <th>Venezuela, Colombia</th>\n",
       "      <th>Vietnam</th>\n",
       "      <th>West Germany</th>\n",
       "      <th>Zimbabwe</th>\n",
       "    </tr>\n",
       "  </thead>\n",
       "  <tbody>\n",
       "    <tr>\n",
       "      <th>release_year</th>\n",
       "      <td>2014</td>\n",
       "      <td>2021</td>\n",
       "      <td>2020</td>\n",
       "      <td>2017</td>\n",
       "      <td>2006</td>\n",
       "      <td>2015</td>\n",
       "      <td>2017</td>\n",
       "      <td>2017</td>\n",
       "      <td>2017</td>\n",
       "      <td>2017</td>\n",
       "      <td>...</td>\n",
       "      <td>2004</td>\n",
       "      <td>2018</td>\n",
       "      <td>2021</td>\n",
       "      <td>2019</td>\n",
       "      <td>2018</td>\n",
       "      <td>2017</td>\n",
       "      <td>2007</td>\n",
       "      <td>2019</td>\n",
       "      <td>1977</td>\n",
       "      <td>2017</td>\n",
       "    </tr>\n",
       "  </tbody>\n",
       "</table>\n",
       "<p>1 rows × 748 columns</p>\n",
       "</div>"
      ],
      "text/plain": [
       "country       , France, Algeria  , South Korea  Argentina  \\\n",
       "release_year               2014           2021       2020   \n",
       "\n",
       "country       Argentina, Brazil, France, Poland, Germany, Denmark  \\\n",
       "release_year                                               2017     \n",
       "\n",
       "country       Argentina, Chile  Argentina, Chile, Peru  Argentina, France  \\\n",
       "release_year              2006                    2015               2017   \n",
       "\n",
       "country       Argentina, France, United States, Germany, Qatar  \\\n",
       "release_year                                              2017   \n",
       "\n",
       "country       Argentina, Italy  Argentina, Spain  ...  \\\n",
       "release_year              2017              2017  ...   \n",
       "\n",
       "country       Uruguay, Argentina, Germany, Spain  Uruguay, Argentina, Spain  \\\n",
       "release_year                                2004                       2018   \n",
       "\n",
       "country       Uruguay, Germany  Uruguay, Guatemala  Uruguay, Spain, Mexico  \\\n",
       "release_year              2021                2019                    2018   \n",
       "\n",
       "country       Venezuela  Venezuela, Colombia  Vietnam  West Germany  Zimbabwe  \n",
       "release_year       2017                 2007     2019          1977      2017  \n",
       "\n",
       "[1 rows x 748 columns]"
      ]
     },
     "execution_count": 2,
     "metadata": {},
     "output_type": "execute_result"
    }
   ],
   "source": [
    "pivot = pd.pivot_table(\n",
    "    data = df,\n",
    "    values = 'release_year',\n",
    "    columns = 'country',\n",
    "    aggfunc = lambda x: x.mode().iat[0],\n",
    ")\n",
    "pivot"
   ]
  },
  {
   "cell_type": "markdown",
   "id": "f634a570-e63e-42fa-9e79-e19ba541e0ee",
   "metadata": {},
   "source": [
    "From the pivot table above, by calculating the mode, we can see that the year in which every country releases the greatest amount of TV-shows & movies."
   ]
  },
  {
   "cell_type": "code",
   "execution_count": 3,
   "id": "2ab3b994-feda-4b2e-a44b-64b393cbb363",
   "metadata": {},
   "outputs": [
    {
     "data": {
      "image/png": "[encoded data removed]",
      "text/plain": [
       "<Figure size 432x288 with 1 Axes>"
      ]
     },
     "metadata": {
      "needs_background": "light"
     },
     "output_type": "display_data"
    }
   ],
   "source": [
    "years = df.groupby('release_year').groups\n",
    "yearsum = {key:len(years[key]) for key in years}\n",
    "lists = sorted(yearsum.items())\n",
    "x, y = zip(*lists)\n",
    "plt.plot(x, y)\n",
    "plt.show()"
   ]
  },
  {
   "cell_type": "markdown",
   "id": "fda85d9d-f35a-4ea2-b58a-7f818f96ca71",
   "metadata": {},
   "source": [
    "By grouping the movies and shows by their year of production, we can count the total number of releases of any year.\n",
    "\n",
    "The number of production increased significantly since 2020 and starting to drop after 2019."
   ]
  },
  {
   "cell_type": "code",
   "execution_count": 4,
   "id": "d7269f82-1baf-413e-9b0d-deaceb36764a",
   "metadata": {},
   "outputs": [
    {
     "data": {
      "image/png": "[encoded data removed]",
      "text/plain": [
       "<Figure size 432x288 with 1 Axes>"
      ]
     },
     "metadata": {
      "needs_background": "light"
     },
     "output_type": "display_data"
    }
   ],
   "source": [
    "sns.boxplot(data=df, x='release_year' ,y='type')\n",
    "plt.xlabel('Year of Release')\n",
    "plt.xlim(2002,2022)\n",
    "plt.show()"
   ]
  },
  {
   "cell_type": "code",
   "execution_count": 5,
   "id": "b806083c-169e-4687-894e-a03f1690bcb6",
   "metadata": {},
   "outputs": [
    {
     "data": {
      "image/png": "[encoded data removed]",
      "text/plain": [
       "<Figure size 432x288 with 1 Axes>"
      ]
     },
     "metadata": {},
     "output_type": "display_data"
    }
   ],
   "source": [
    "type_value_count = df['type'].value_counts(normalize=True)*100\n",
    "content_types = df['type'].unique()\n",
    "plt.pie(type_value_count,labels=content_types,autopct='%1.2f%%')\n",
    "plt.show()"
   ]
  },
  {
   "cell_type": "code",
   "execution_count": 6,
   "id": "bb07d0e6-0e18-4635-8a94-f086d56f4a3e",
   "metadata": {},
   "outputs": [
    {
     "data": {
      "image/png": "[encoded data removed]",
      "text/plain": [
       "<Figure size 432x288 with 1 Axes>"
      ]
     },
     "metadata": {
      "needs_background": "light"
     },
     "output_type": "display_data"
    }
   ],
   "source": [
    "country_list = df['country'].apply(lambda x: str(x).split(',')).tolist()\n",
    "country_df = pd.DataFrame(country_list,index=df['title'])\n",
    "country_df = country_df.stack()\n",
    "country_df = pd.DataFrame(country_df)\n",
    "country_df.reset_index(inplace = True)\n",
    "country_df = country_df[['title',0]]\n",
    "country_df.columns = ['title','country_name']\n",
    "country_df['country_name'] = country_df['country_name'].str.strip()\n",
    "df_country = df.merge(country_df, on='title', how='inner')\n",
    "x = pd.DataFrame(df_country.groupby('country_name')['title'].count())\n",
    "x.reset_index(inplace = True)\n",
    "new_data = x[x['title']>50]\n",
    "sorted_data = new_data.sort_values(by='title')\n",
    "sns.barplot(x = sorted_data['country_name'], y= sorted_data['title'])\n",
    "y_pos = np.arange(len(sorted_data))\n",
    "plt.xticks(color='black', rotation=90, fontweight='bold', fontsize='10', horizontalalignment='right')\n",
    "plt.xlabel('Country Name')\n",
    "plt.ylabel('Movies + TV Shows')\n",
    "plt.show()"
   ]
  },
  {
   "cell_type": "markdown",
   "id": "c216139b-a49b-44a1-b1a2-a3caa1f1dff2",
   "metadata": {},
   "source": [
    "From the charts above, we can see that most releases are aggregated from 2012 to 2020.\n",
    "\n",
    "And the releases were mainly movies, about two times the amount of TV-shows.\n",
    "\n",
    "For the country of production, the movies and shows were mainly produced in the US."
   ]
  }
 ],
 "metadata": {
  "kernelspec": {
   "display_name": "Python 3 (ipykernel)",
   "language": "python",
   "name": "python3"
  },
  "language_info": {
   "codemirror_mode": {
    "name": "ipython",
    "version": 3
   },
   "file_extension": ".py",
   "mimetype": "text/x-python",
   "name": "python",
   "nbconvert_exporter": "python",
   "pygments_lexer": "ipython3",
   "version": "3.9.7"
  }
 },
 "nbformat": 4,
 "nbformat_minor": 5
}
